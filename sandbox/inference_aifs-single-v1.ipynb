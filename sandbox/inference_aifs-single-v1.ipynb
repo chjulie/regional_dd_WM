{
 "cells": [
  {
   "cell_type": "code",
   "execution_count": 1,
   "metadata": {},
   "outputs": [],
   "source": [
    "import datetime\n",
    "import numpy as np\n",
    "import torch\n",
    "from collections import defaultdict\n",
    "\n",
    "import earthkit.data as ekd\n",
    "import earthkit.regrid as ekr\n",
    "\n",
    "from anemoi.inference.runners.simple import SimpleRunner\n",
    "from anemoi.inference.outputs.printer import print_state\n",
    "\n",
    "from ecmwf.opendata import Client as OpendataClient"
   ]
  },
  {
   "cell_type": "markdown",
   "metadata": {},
   "source": [
    "# 1. Import initial conditions from ECMWF open data    \n",
    "**Parameters to retrieve from ECMWF**"
   ]
  },
  {
   "cell_type": "code",
   "execution_count": 2,
   "metadata": {},
   "outputs": [],
   "source": [
    "PARAM_SFC = [\"10u\", \"10v\", \"2d\", \"2t\", \"msl\", \"skt\", \"sp\", \"tcw\", \"lsm\", \"z\", \"slor\", \"sdor\"]\n",
    "# msl: Mean sea level pressure\n",
    "# skt: Skin temperature\n",
    "# sp: Surface pressure\n",
    "# tcw: Total column vertically-integrated water vapour\n",
    "# lsm: Land Sea Mask\n",
    "# z: Geopotential\n",
    "# slor: Slope of sub-gridscale orography (step 0)\n",
    "# sdor: Standard deviation of sub-gridscale orography (step 0)\n",
    "PARAM_SOIL =[\"vsw\",\"sot\"]\n",
    "# vsw: Volumetric soil water (layers 1-4)\n",
    "# sot: Soil temperature (layers 1-4)\n",
    "PARAM_PL = [\"gh\", \"t\", \"u\", \"v\", \"w\", \"q\"]\n",
    "# q: Specific humidity\n",
    "# w: vertical velocity\n",
    "LEVELS = [1000, 925, 850, 700, 600, 500, 400, 300, 250, 200, 150, 100, 50]\n",
    "SOIL_LEVELS = [1,2]"
   ]
  },
  {
   "cell_type": "markdown",
   "metadata": {},
   "source": [
    "**Date of initial conditions**"
   ]
  },
  {
   "cell_type": "code",
   "execution_count": 3,
   "metadata": {},
   "outputs": [
    {
     "name": "stdout",
     "output_type": "stream",
     "text": [
      "Initial date is 2025-09-18 06:00:00\n"
     ]
    }
   ],
   "source": [
    "DATE = OpendataClient().latest()\n",
    "print(f\"Initial date is {DATE}\")"
   ]
  },
  {
   "cell_type": "markdown",
   "metadata": {},
   "source": [
    "**Fetch the data using ECMWF Open Data API**"
   ]
  },
  {
   "cell_type": "code",
   "execution_count": 4,
   "metadata": {},
   "outputs": [],
   "source": [
    "def get_open_data(param, levelist=[]):\n",
    "    fields = defaultdict(list)\n",
    "    # Get data at time t and t-1:\n",
    "    for date in [DATE - datetime.timedelta(hours=6), DATE]:\n",
    "        data = ekd.from_source(\"ecmwf-open-data\", date=date, param=param, levelist=levelist) # <class 'earthkit.data.readers.grib.file.GRIBReader'>\n",
    "        for f in data:  # <class 'earthkit.data.readers.grib.codes.GribField'>\n",
    "            assert f.to_numpy().shape == (721,1440)\n",
    "            values = np.roll(f.to_numpy(), -f.shape[1] // 2, axis=1)\n",
    "            # Interpolate the data to from 0.25°x0.25° (regular lat-lon grid, 2D) to N320 (reduced gaussian grid, 1D, see definition here: https://www.ecmwf.int/en/forecasts/documentation-and-support/gaussian_n320) \n",
    "            values = ekr.interpolate(values, {\"grid\": (0.25, 0.25)}, {\"grid\": \"N320\"})\n",
    "            # Add the values to the list\n",
    "            name = f\"{f.metadata('param')}_{f.metadata('levelist')}\" if levelist else f.metadata(\"param\")\n",
    "            fields[name].append(values)\n",
    "\n",
    "    # Create a single matrix for each parameter\n",
    "    for param, values in fields.items():\n",
    "        fields[param] = np.stack(values)\n",
    "\n",
    "    return fields"
   ]
  },
  {
   "cell_type": "code",
   "execution_count": 5,
   "metadata": {},
   "outputs": [],
   "source": [
    "fields = {}"
   ]
  },
  {
   "cell_type": "markdown",
   "metadata": {},
   "source": [
    "**Single-level field**"
   ]
  },
  {
   "cell_type": "code",
   "execution_count": 6,
   "metadata": {},
   "outputs": [
    {
     "name": "stderr",
     "output_type": "stream",
     "text": [
      "                                                                \r"
     ]
    },
    {
     "name": "stdout",
     "output_type": "stream",
     "text": [
      "By downloading data from the ECMWF open data dataset, you agree to the terms: Attribution 4.0 International (CC BY 4.0). Please attribute ECMWF when downloading this data.\n"
     ]
    },
    {
     "name": "stderr",
     "output_type": "stream",
     "text": [
      "                                                                \r"
     ]
    }
   ],
   "source": [
    "fields.update(get_open_data(param=PARAM_SFC))"
   ]
  },
  {
   "cell_type": "code",
   "execution_count": 7,
   "metadata": {},
   "outputs": [
    {
     "name": "stderr",
     "output_type": "stream",
     "text": [
      "                                                                                     \r"
     ]
    }
   ],
   "source": [
    "soil=get_open_data(param=PARAM_SOIL,levelist=SOIL_LEVELS)\n",
    "\n",
    "# soil parameters need to be renamed to be consistent with training\n",
    "mapping = {'sot_1': 'stl1', 'sot_2': 'stl2',\n",
    "           'vsw_1': 'swvl1','vsw_2': 'swvl2'}\n",
    "for k,v in soil.items():\n",
    "    fields[mapping[k]]=v"
   ]
  },
  {
   "cell_type": "markdown",
   "metadata": {},
   "source": [
    "**Pressure level fields**"
   ]
  },
  {
   "cell_type": "code",
   "execution_count": 8,
   "metadata": {},
   "outputs": [
    {
     "name": "stderr",
     "output_type": "stream",
     "text": [
      "                                                                \r"
     ]
    }
   ],
   "source": [
    "fields.update(get_open_data(param=PARAM_PL, levelist=LEVELS))"
   ]
  },
  {
   "cell_type": "code",
   "execution_count": 9,
   "metadata": {},
   "outputs": [],
   "source": [
    "# Convert geopotential height into geopotential (transform GH to Z)\n",
    "for level in LEVELS:\n",
    "    gh = fields.pop(f\"gh_{level}\")\n",
    "    fields[f\"z_{level}\"] = gh * 9.80665"
   ]
  },
  {
   "cell_type": "code",
   "execution_count": 10,
   "metadata": {},
   "outputs": [
    {
     "name": "stdout",
     "output_type": "stream",
     "text": [
      "dict_keys(['10u', '10v', '2d', '2t', 'msl', 'skt', 'sp', 'tcw', 'lsm', 'z', 'slor', 'sdor', 'swvl1', 'swvl2', 'stl1', 'stl2', 't_1000', 't_925', 't_850', 't_700', 't_600', 't_500', 't_400', 't_300', 't_250', 't_200', 't_150', 't_100', 't_50', 'u_1000', 'u_925', 'u_850', 'u_700', 'u_600', 'u_500', 'u_400', 'u_300', 'u_250', 'u_200', 'u_150', 'u_100', 'u_50', 'v_1000', 'v_925', 'v_850', 'v_700', 'v_600', 'v_500', 'v_400', 'v_300', 'v_250', 'v_200', 'v_150', 'v_100', 'v_50', 'w_1000', 'w_925', 'w_850', 'w_700', 'w_600', 'w_500', 'w_400', 'w_300', 'w_250', 'w_200', 'w_150', 'w_100', 'w_50', 'q_1000', 'q_925', 'q_850', 'q_700', 'q_600', 'q_500', 'q_400', 'q_300', 'q_250', 'q_200', 'q_150', 'q_100', 'q_50', 'z_1000', 'z_925', 'z_850', 'z_700', 'z_600', 'z_500', 'z_400', 'z_300', 'z_250', 'z_200', 'z_150', 'z_100', 'z_50'])\n",
      "[[ 2.25539092  1.20666618  0.11760587 ... -6.39464971 -6.26019782\n",
      "  -5.23836346]\n",
      " [-1.10034716 -2.92889286 -4.08517912 ... -6.46423058 -6.38355944\n",
      "  -5.32138951]]\n"
     ]
    }
   ],
   "source": [
    "print(fields.keys())\n",
    "print(fields[\"10u\"])    # fields[\"field_name\"][0] array for t-1, fields[\"field_name\"][1] array for t, both in N320 format "
   ]
  },
  {
   "cell_type": "markdown",
   "metadata": {},
   "source": [
    "**Create initial state**"
   ]
  },
  {
   "cell_type": "code",
   "execution_count": 11,
   "metadata": {},
   "outputs": [],
   "source": [
    "input_state = dict(date=DATE, fields=fields)"
   ]
  },
  {
   "cell_type": "markdown",
   "metadata": {},
   "source": [
    "# 2. Load the model and run the forecast\n",
    "**Load model checkpoint form huggingface and create a runner**"
   ]
  },
  {
   "cell_type": "code",
   "execution_count": 12,
   "metadata": {},
   "outputs": [],
   "source": [
    "checkpoint = {\"huggingface\":\"ecmwf/aifs-single-1.0\"}"
   ]
  },
  {
   "cell_type": "code",
   "execution_count": 13,
   "metadata": {},
   "outputs": [
    {
     "name": "stdout",
     "output_type": "stream",
     "text": [
      "False\n"
     ]
    }
   ],
   "source": [
    "print(torch.cuda.is_available())"
   ]
  },
  {
   "cell_type": "code",
   "execution_count": 14,
   "metadata": {},
   "outputs": [],
   "source": [
    "runner = SimpleRunner(checkpoint, device=\"cpu\")"
   ]
  },
  {
   "cell_type": "markdown",
   "metadata": {},
   "source": [
    "**Run the forecast**"
   ]
  },
  {
   "cell_type": "code",
   "execution_count": 17,
   "metadata": {},
   "outputs": [
    {
     "ename": "PackageNotFoundError",
     "evalue": "No package metadata was found for attrs",
     "output_type": "error",
     "traceback": [
      "\u001b[31m---------------------------------------------------------------------------\u001b[39m",
      "\u001b[31mModuleNotFoundError\u001b[39m                       Traceback (most recent call last)",
      "\u001b[36mFile \u001b[39m\u001b[32m~/Desktop/dev/regional_dd_WM/.venv/lib/python3.13/site-packages/anemoi/inference/runner.py:507\u001b[39m, in \u001b[36mRunner.model\u001b[39m\u001b[34m(self)\u001b[39m\n\u001b[32m    506\u001b[39m \u001b[38;5;28;01mtry\u001b[39;00m:\n\u001b[32m--> \u001b[39m\u001b[32m507\u001b[39m     model = \u001b[43mtorch\u001b[49m\u001b[43m.\u001b[49m\u001b[43mload\u001b[49m\u001b[43m(\u001b[49m\u001b[38;5;28;43mself\u001b[39;49m\u001b[43m.\u001b[49m\u001b[43mcheckpoint\u001b[49m\u001b[43m.\u001b[49m\u001b[43mpath\u001b[49m\u001b[43m,\u001b[49m\u001b[43m \u001b[49m\u001b[43mmap_location\u001b[49m\u001b[43m=\u001b[49m\u001b[38;5;28;43mself\u001b[39;49m\u001b[43m.\u001b[49m\u001b[43mdevice\u001b[49m\u001b[43m,\u001b[49m\u001b[43m \u001b[49m\u001b[43mweights_only\u001b[49m\u001b[43m=\u001b[49m\u001b[38;5;28;43;01mFalse\u001b[39;49;00m\u001b[43m)\u001b[49m.to(\u001b[38;5;28mself\u001b[39m.device)\n\u001b[32m    508\u001b[39m \u001b[38;5;28;01mexcept\u001b[39;00m \u001b[38;5;167;01mException\u001b[39;00m \u001b[38;5;28;01mas\u001b[39;00m e:  \u001b[38;5;66;03m# Wildcard exception to catch all errors\u001b[39;00m\n",
      "\u001b[36mFile \u001b[39m\u001b[32m~/Desktop/dev/regional_dd_WM/.venv/lib/python3.13/site-packages/torch/serialization.py:1530\u001b[39m, in \u001b[36mload\u001b[39m\u001b[34m(f, map_location, pickle_module, weights_only, mmap, **pickle_load_args)\u001b[39m\n",
      "\u001b[36mFile \u001b[39m\u001b[32m~/Desktop/dev/regional_dd_WM/.venv/lib/python3.13/site-packages/torch/serialization.py:2119\u001b[39m, in \u001b[36m_load\u001b[39m\u001b[34m(zip_file, map_location, pickle_module, pickle_file, overall_storage, **pickle_load_args)\u001b[39m\n",
      "\u001b[36mFile \u001b[39m\u001b[32m~/Desktop/dev/regional_dd_WM/.venv/lib/python3.13/site-packages/torch/serialization.py:2108\u001b[39m, in \u001b[36mfind_class\u001b[39m\u001b[34m(self, mod_name, name)\u001b[39m\n",
      "\u001b[31mModuleNotFoundError\u001b[39m: No module named 'anemoi.models.interface'",
      "\nDuring handling of the above exception, another exception occurred:\n",
      "\u001b[31mStopIteration\u001b[39m                             Traceback (most recent call last)",
      "\u001b[36mFile \u001b[39m\u001b[32m~/.local/share/uv/python/cpython-3.13.7-macos-aarch64-none/lib/python3.13/importlib/metadata/__init__.py:407\u001b[39m, in \u001b[36mDistribution.from_name\u001b[39m\u001b[34m(cls, name)\u001b[39m\n\u001b[32m    406\u001b[39m \u001b[38;5;28;01mtry\u001b[39;00m:\n\u001b[32m--> \u001b[39m\u001b[32m407\u001b[39m     \u001b[38;5;28;01mreturn\u001b[39;00m \u001b[38;5;28;43mnext\u001b[39;49m\u001b[43m(\u001b[49m\u001b[38;5;28;43miter\u001b[39;49m\u001b[43m(\u001b[49m\u001b[38;5;28;43mcls\u001b[39;49m\u001b[43m.\u001b[49m\u001b[43mdiscover\u001b[49m\u001b[43m(\u001b[49m\u001b[43mname\u001b[49m\u001b[43m=\u001b[49m\u001b[43mname\u001b[49m\u001b[43m)\u001b[49m\u001b[43m)\u001b[49m\u001b[43m)\u001b[49m\n\u001b[32m    408\u001b[39m \u001b[38;5;28;01mexcept\u001b[39;00m \u001b[38;5;167;01mStopIteration\u001b[39;00m:\n",
      "\u001b[31mStopIteration\u001b[39m: ",
      "\nDuring handling of the above exception, another exception occurred:\n",
      "\u001b[31mPackageNotFoundError\u001b[39m                      Traceback (most recent call last)",
      "\u001b[36mCell\u001b[39m\u001b[36m \u001b[39m\u001b[32mIn[17]\u001b[39m\u001b[32m, line 1\u001b[39m\n\u001b[32m----> \u001b[39m\u001b[32m1\u001b[39m \u001b[38;5;28;43;01mfor\u001b[39;49;00m\u001b[43m \u001b[49m\u001b[43mstate\u001b[49m\u001b[43m \u001b[49m\u001b[38;5;129;43;01min\u001b[39;49;00m\u001b[43m \u001b[49m\u001b[43mrunner\u001b[49m\u001b[43m.\u001b[49m\u001b[43mrun\u001b[49m\u001b[43m(\u001b[49m\u001b[43minput_state\u001b[49m\u001b[43m=\u001b[49m\u001b[43minput_state\u001b[49m\u001b[43m,\u001b[49m\u001b[43m \u001b[49m\u001b[43mlead_time\u001b[49m\u001b[43m=\u001b[49m\u001b[32;43m12\u001b[39;49m\u001b[43m)\u001b[49m\u001b[43m:\u001b[49m\n\u001b[32m      2\u001b[39m \u001b[43m    \u001b[49m\u001b[43mprint_state\u001b[49m\u001b[43m(\u001b[49m\u001b[43mstate\u001b[49m\u001b[43m)\u001b[49m\n",
      "\u001b[36mFile \u001b[39m\u001b[32m~/Desktop/dev/regional_dd_WM/.venv/lib/python3.13/site-packages/anemoi/inference/runner.py:248\u001b[39m, in \u001b[36mRunner.run\u001b[39m\u001b[34m(self, input_state, lead_time, return_numpy)\u001b[39m\n\u001b[32m    245\u001b[39m     input_tensor = \u001b[38;5;28mself\u001b[39m.prepare_input_tensor(input_state)\n\u001b[32m    247\u001b[39m \u001b[38;5;28;01mtry\u001b[39;00m:\n\u001b[32m--> \u001b[39m\u001b[32m248\u001b[39m     \u001b[38;5;28;01myield from\u001b[39;00m \u001b[38;5;28mself\u001b[39m.prepare_output_state(\u001b[38;5;28mself\u001b[39m.forecast(lead_time, input_tensor, input_state), return_numpy)\n\u001b[32m    249\u001b[39m \u001b[38;5;28;01mexcept\u001b[39;00m (\u001b[38;5;167;01mTypeError\u001b[39;00m, \u001b[38;5;167;01mModuleNotFoundError\u001b[39;00m, \u001b[38;5;167;01mAttributeError\u001b[39;00m):\n\u001b[32m    250\u001b[39m     \u001b[38;5;28;01mif\u001b[39;00m \u001b[38;5;28mself\u001b[39m.report_error:\n",
      "\u001b[36mFile \u001b[39m\u001b[32m~/Desktop/dev/regional_dd_WM/.venv/lib/python3.13/site-packages/anemoi/inference/runner.py:473\u001b[39m, in \u001b[36mRunner.prepare_output_state\u001b[39m\u001b[34m(self, output, return_numpy)\u001b[39m\n\u001b[32m    455\u001b[39m \u001b[38;5;28;01mdef\u001b[39;00m\u001b[38;5;250m \u001b[39m\u001b[34mprepare_output_state\u001b[39m(\n\u001b[32m    456\u001b[39m     \u001b[38;5;28mself\u001b[39m, output: Generator[State, \u001b[38;5;28;01mNone\u001b[39;00m, \u001b[38;5;28;01mNone\u001b[39;00m], return_numpy: \u001b[38;5;28mbool\u001b[39m\n\u001b[32m    457\u001b[39m ) -> Generator[State, \u001b[38;5;28;01mNone\u001b[39;00m, \u001b[38;5;28;01mNone\u001b[39;00m]:\n\u001b[32m    458\u001b[39m \u001b[38;5;250m    \u001b[39m\u001b[33;03m\"\"\"Prepare the output state.\u001b[39;00m\n\u001b[32m    459\u001b[39m \n\u001b[32m    460\u001b[39m \u001b[33;03m    Parameters\u001b[39;00m\n\u001b[32m   (...)\u001b[39m\u001b[32m    471\u001b[39m \u001b[33;03m        The prepared output state.\u001b[39;00m\n\u001b[32m    472\u001b[39m \u001b[33;03m    \"\"\"\u001b[39;00m\n\u001b[32m--> \u001b[39m\u001b[32m473\u001b[39m \u001b[43m    \u001b[49m\u001b[38;5;28;43;01mfor\u001b[39;49;00m\u001b[43m \u001b[49m\u001b[43mstate\u001b[49m\u001b[43m \u001b[49m\u001b[38;5;129;43;01min\u001b[39;49;00m\u001b[43m \u001b[49m\u001b[43moutput\u001b[49m\u001b[43m:\u001b[49m\n\u001b[32m    474\u001b[39m \u001b[43m        \u001b[49m\u001b[38;5;28;43;01mif\u001b[39;49;00m\u001b[43m \u001b[49m\u001b[43mreturn_numpy\u001b[49m\u001b[43m:\u001b[49m\n\u001b[32m    475\u001b[39m \u001b[43m            \u001b[49m\u001b[38;5;66;43;03m# Convert fields to numpy arrays\u001b[39;49;00m\n\u001b[32m    476\u001b[39m \u001b[43m            \u001b[49m\u001b[38;5;28;43;01mfor\u001b[39;49;00m\u001b[43m \u001b[49m\u001b[43mname\u001b[49m\u001b[43m,\u001b[49m\u001b[43m \u001b[49m\u001b[43mfield\u001b[49m\u001b[43m \u001b[49m\u001b[38;5;129;43;01min\u001b[39;49;00m\u001b[43m \u001b[49m\u001b[43mstate\u001b[49m\u001b[43m[\u001b[49m\u001b[33;43m\"\u001b[39;49m\u001b[33;43mfields\u001b[39;49m\u001b[33;43m\"\u001b[39;49m\u001b[43m]\u001b[49m\u001b[43m.\u001b[49m\u001b[43mitems\u001b[49m\u001b[43m(\u001b[49m\u001b[43m)\u001b[49m\u001b[43m:\u001b[49m\n",
      "\u001b[36mFile \u001b[39m\u001b[32m~/Desktop/dev/regional_dd_WM/.venv/lib/python3.13/site-packages/anemoi/inference/runner.py:597\u001b[39m, in \u001b[36mRunner.forecast\u001b[39m\u001b[34m(self, lead_time, input_tensor_numpy, input_state)\u001b[39m\n\u001b[32m    578\u001b[39m \u001b[38;5;28;01mdef\u001b[39;00m\u001b[38;5;250m \u001b[39m\u001b[34mforecast\u001b[39m(\n\u001b[32m    579\u001b[39m     \u001b[38;5;28mself\u001b[39m, lead_time: \u001b[38;5;28mstr\u001b[39m, input_tensor_numpy: FloatArray, input_state: State\n\u001b[32m    580\u001b[39m ) -> Generator[State, \u001b[38;5;28;01mNone\u001b[39;00m, \u001b[38;5;28;01mNone\u001b[39;00m]:\n\u001b[32m    581\u001b[39m \u001b[38;5;250m    \u001b[39m\u001b[33;03m\"\"\"Forecast the future states.\u001b[39;00m\n\u001b[32m    582\u001b[39m \n\u001b[32m    583\u001b[39m \u001b[33;03m    Parameters\u001b[39;00m\n\u001b[32m   (...)\u001b[39m\u001b[32m    595\u001b[39m \u001b[33;03m        The forecasted state.\u001b[39;00m\n\u001b[32m    596\u001b[39m \u001b[33;03m    \"\"\"\u001b[39;00m\n\u001b[32m--> \u001b[39m\u001b[32m597\u001b[39m     \u001b[38;5;28;43mself\u001b[39;49m\u001b[43m.\u001b[49m\u001b[43mmodel\u001b[49m.eval()\n\u001b[32m    599\u001b[39m     torch.set_grad_enabled(\u001b[38;5;28;01mFalse\u001b[39;00m)\n\u001b[32m    601\u001b[39m     \u001b[38;5;66;03m# Create pytorch input tensor\u001b[39;00m\n",
      "\u001b[36mFile \u001b[39m\u001b[32m~/.local/share/uv/python/cpython-3.13.7-macos-aarch64-none/lib/python3.13/functools.py:1026\u001b[39m, in \u001b[36mcached_property.__get__\u001b[39m\u001b[34m(self, instance, owner)\u001b[39m\n\u001b[32m   1024\u001b[39m val = cache.get(\u001b[38;5;28mself\u001b[39m.attrname, _NOT_FOUND)\n\u001b[32m   1025\u001b[39m \u001b[38;5;28;01mif\u001b[39;00m val \u001b[38;5;129;01mis\u001b[39;00m _NOT_FOUND:\n\u001b[32m-> \u001b[39m\u001b[32m1026\u001b[39m     val = \u001b[38;5;28;43mself\u001b[39;49m\u001b[43m.\u001b[49m\u001b[43mfunc\u001b[49m\u001b[43m(\u001b[49m\u001b[43minstance\u001b[49m\u001b[43m)\u001b[49m\n\u001b[32m   1027\u001b[39m     \u001b[38;5;28;01mtry\u001b[39;00m:\n\u001b[32m   1028\u001b[39m         cache[\u001b[38;5;28mself\u001b[39m.attrname] = val\n",
      "\u001b[36mFile \u001b[39m\u001b[32m~/Desktop/dev/regional_dd_WM/.venv/lib/python3.13/site-packages/anemoi/inference/runner.py:511\u001b[39m, in \u001b[36mRunner.model\u001b[39m\u001b[34m(self)\u001b[39m\n\u001b[32m    509\u001b[39m \u001b[38;5;28;01mif\u001b[39;00m \u001b[38;5;28mself\u001b[39m.report_error:\n\u001b[32m    510\u001b[39m     \u001b[38;5;28mself\u001b[39m.checkpoint.report_error()\n\u001b[32m--> \u001b[39m\u001b[32m511\u001b[39m validation_result = \u001b[38;5;28;43mself\u001b[39;49m\u001b[43m.\u001b[49m\u001b[43mcheckpoint\u001b[49m\u001b[43m.\u001b[49m\u001b[43mvalidate_environment\u001b[49m\u001b[43m(\u001b[49m\u001b[43mon_difference\u001b[49m\u001b[43m=\u001b[49m\u001b[33;43m\"\u001b[39;49m\u001b[33;43mreturn\u001b[39;49m\u001b[33;43m\"\u001b[39;49m\u001b[43m)\u001b[49m\n\u001b[32m    512\u001b[39m e.add_note(\u001b[33m\"\u001b[39m\u001b[33mModel failed to load, check the stack trace above this message to find the real error\u001b[39m\u001b[33m\"\u001b[39m)\n\u001b[32m    513\u001b[39m e.add_note(\u001b[33m\"\u001b[39m\u001b[33mIs your environment valid?:\u001b[39m\u001b[38;5;130;01m\\n\u001b[39;00m\u001b[33m\"\u001b[39m + \u001b[38;5;28mstr\u001b[39m(validation_result))\n",
      "\u001b[36mFile \u001b[39m\u001b[32m~/Desktop/dev/regional_dd_WM/.venv/lib/python3.13/site-packages/anemoi/inference/checkpoint.py:292\u001b[39m, in \u001b[36mCheckpoint.validate_environment\u001b[39m\u001b[34m(self, all_packages, on_difference, exempt_packages)\u001b[39m\n\u001b[32m    268\u001b[39m \u001b[38;5;28;01mdef\u001b[39;00m\u001b[38;5;250m \u001b[39m\u001b[34mvalidate_environment\u001b[39m(\n\u001b[32m    269\u001b[39m     \u001b[38;5;28mself\u001b[39m,\n\u001b[32m    270\u001b[39m     *,\n\u001b[32m   (...)\u001b[39m\u001b[32m    273\u001b[39m     exempt_packages: \u001b[38;5;28mlist\u001b[39m[\u001b[38;5;28mstr\u001b[39m] | \u001b[38;5;28;01mNone\u001b[39;00m = \u001b[38;5;28;01mNone\u001b[39;00m,\n\u001b[32m    274\u001b[39m ) -> \u001b[38;5;28mbool\u001b[39m | \u001b[38;5;28mstr\u001b[39m:\n\u001b[32m    275\u001b[39m \u001b[38;5;250m    \u001b[39m\u001b[33;03m\"\"\"Validate the environment.\u001b[39;00m\n\u001b[32m    276\u001b[39m \n\u001b[32m    277\u001b[39m \u001b[33;03m    Parameters\u001b[39;00m\n\u001b[32m   (...)\u001b[39m\u001b[32m    290\u001b[39m \u001b[33;03m        True if environment is valid, False otherwise\u001b[39;00m\n\u001b[32m    291\u001b[39m \u001b[33;03m    \"\"\"\u001b[39;00m\n\u001b[32m--> \u001b[39m\u001b[32m292\u001b[39m     \u001b[38;5;28;01mreturn\u001b[39;00m \u001b[38;5;28;43mself\u001b[39;49m\u001b[43m.\u001b[49m\u001b[43m_metadata\u001b[49m\u001b[43m.\u001b[49m\u001b[43mvalidate_environment\u001b[49m\u001b[43m(\u001b[49m\n\u001b[32m    293\u001b[39m \u001b[43m        \u001b[49m\u001b[43mall_packages\u001b[49m\u001b[43m=\u001b[49m\u001b[43mall_packages\u001b[49m\u001b[43m,\u001b[49m\u001b[43m \u001b[49m\u001b[43mon_difference\u001b[49m\u001b[43m=\u001b[49m\u001b[43mon_difference\u001b[49m\u001b[43m,\u001b[49m\u001b[43m \u001b[49m\u001b[43mexempt_packages\u001b[49m\u001b[43m=\u001b[49m\u001b[43mexempt_packages\u001b[49m\n\u001b[32m    294\u001b[39m \u001b[43m    \u001b[49m\u001b[43m)\u001b[49m\n",
      "\u001b[36mFile \u001b[39m\u001b[32m~/Desktop/dev/regional_dd_WM/.venv/lib/python3.13/site-packages/anemoi/inference/metadata.py:670\u001b[39m, in \u001b[36mvalidate_environment\u001b[39m\u001b[34m(self, all_packages, on_difference, exempt_packages)\u001b[39m\n",
      "\u001b[36mFile \u001b[39m\u001b[32m~/Desktop/dev/regional_dd_WM/.venv/lib/python3.13/site-packages/anemoi/inference/provenance.py:98\u001b[39m, in \u001b[36mvalidate_environment\u001b[39m\u001b[34m(metadata, all_packages, on_difference, exempt_packages)\u001b[39m\n\u001b[32m     71\u001b[39m \u001b[38;5;250m\u001b[39m\u001b[33;03m\"\"\"Validate environment of the checkpoint against the current environment.\u001b[39;00m\n\u001b[32m     72\u001b[39m \n\u001b[32m     73\u001b[39m \u001b[33;03mParameters\u001b[39;00m\n\u001b[32m   (...)\u001b[39m\u001b[32m     95\u001b[39m \u001b[33;03m    If `on_difference` is not 'warn' or 'error'\u001b[39;00m\n\u001b[32m     96\u001b[39m \u001b[33;03m\"\"\"\u001b[39;00m\n\u001b[32m     97\u001b[39m train_environment = metadata.provenance_training()\n\u001b[32m---> \u001b[39m\u001b[32m98\u001b[39m inference_environment = \u001b[43mgather_provenance_info\u001b[49m\u001b[43m(\u001b[49m\u001b[43mfull\u001b[49m\u001b[43m=\u001b[49m\u001b[38;5;28;43;01mFalse\u001b[39;49;00m\u001b[43m)\u001b[49m\n\u001b[32m    100\u001b[39m \u001b[38;5;66;03m# Override module information with more complete inference environment capture\u001b[39;00m\n\u001b[32m    101\u001b[39m \u001b[38;5;28;01mimport\u001b[39;00m\u001b[38;5;250m \u001b[39m\u001b[34;01mimportlib\u001b[39;00m\u001b[34;01m.\u001b[39;00m\u001b[34;01mmetadata\u001b[39;00m\u001b[38;5;250m \u001b[39m\u001b[38;5;28;01mas\u001b[39;00m\u001b[38;5;250m \u001b[39m\u001b[34;01mimp_metadata\u001b[39;00m\n",
      "\u001b[36mFile \u001b[39m\u001b[32m~/Desktop/dev/regional_dd_WM/.venv/lib/python3.13/site-packages/anemoi/utils/provenance.py:526\u001b[39m, in \u001b[36mgather_provenance_info\u001b[39m\u001b[34m(assets, full)\u001b[39m\n",
      "\u001b[36mFile \u001b[39m\u001b[32m~/Desktop/dev/regional_dd_WM/.venv/lib/python3.13/site-packages/anemoi/utils/provenance.py:277\u001b[39m, in \u001b[36mmodule_versions\u001b[39m\u001b[34m(full)\u001b[39m\n",
      "\u001b[36mFile \u001b[39m\u001b[32m~/Desktop/dev/regional_dd_WM/.venv/lib/python3.13/site-packages/anemoi/utils/provenance.py:202\u001b[39m, in \u001b[36m_module_versions\u001b[39m\u001b[34m(full)\u001b[39m\n",
      "\u001b[36mFile \u001b[39m\u001b[32m~/Desktop/dev/regional_dd_WM/.venv/lib/python3.13/site-packages/anemoi/utils/provenance.py:143\u001b[39m, in \u001b[36mversion\u001b[39m\u001b[34m(versions, name, module, roots, namespaces, paths, full)\u001b[39m\n",
      "\u001b[36mFile \u001b[39m\u001b[32m~/Desktop/dev/regional_dd_WM/.venv/lib/python3.13/site-packages/attr/__init__.py:94\u001b[39m, in \u001b[36m__getattr__\u001b[39m\u001b[34m(name)\u001b[39m\n",
      "\u001b[36mFile \u001b[39m\u001b[32m~/.local/share/uv/python/cpython-3.13.7-macos-aarch64-none/lib/python3.13/importlib/metadata/__init__.py:977\u001b[39m, in \u001b[36mmetadata\u001b[39m\u001b[34m(distribution_name)\u001b[39m\n\u001b[32m    971\u001b[39m \u001b[38;5;28;01mdef\u001b[39;00m\u001b[38;5;250m \u001b[39m\u001b[34mmetadata\u001b[39m(distribution_name: \u001b[38;5;28mstr\u001b[39m) -> _meta.PackageMetadata:\n\u001b[32m    972\u001b[39m \u001b[38;5;250m    \u001b[39m\u001b[33;03m\"\"\"Get the metadata for the named package.\u001b[39;00m\n\u001b[32m    973\u001b[39m \n\u001b[32m    974\u001b[39m \u001b[33;03m    :param distribution_name: The name of the distribution package to query.\u001b[39;00m\n\u001b[32m    975\u001b[39m \u001b[33;03m    :return: A PackageMetadata containing the parsed metadata.\u001b[39;00m\n\u001b[32m    976\u001b[39m \u001b[33;03m    \"\"\"\u001b[39;00m\n\u001b[32m--> \u001b[39m\u001b[32m977\u001b[39m     \u001b[38;5;28;01mreturn\u001b[39;00m \u001b[43mDistribution\u001b[49m\u001b[43m.\u001b[49m\u001b[43mfrom_name\u001b[49m\u001b[43m(\u001b[49m\u001b[43mdistribution_name\u001b[49m\u001b[43m)\u001b[49m.metadata\n",
      "\u001b[36mFile \u001b[39m\u001b[32m~/.local/share/uv/python/cpython-3.13.7-macos-aarch64-none/lib/python3.13/importlib/metadata/__init__.py:409\u001b[39m, in \u001b[36mDistribution.from_name\u001b[39m\u001b[34m(cls, name)\u001b[39m\n\u001b[32m    407\u001b[39m     \u001b[38;5;28;01mreturn\u001b[39;00m \u001b[38;5;28mnext\u001b[39m(\u001b[38;5;28miter\u001b[39m(\u001b[38;5;28mcls\u001b[39m.discover(name=name)))\n\u001b[32m    408\u001b[39m \u001b[38;5;28;01mexcept\u001b[39;00m \u001b[38;5;167;01mStopIteration\u001b[39;00m:\n\u001b[32m--> \u001b[39m\u001b[32m409\u001b[39m     \u001b[38;5;28;01mraise\u001b[39;00m PackageNotFoundError(name)\n",
      "\u001b[31mPackageNotFoundError\u001b[39m: No package metadata was found for attrs"
     ]
    }
   ],
   "source": [
    "for state in runner.run(input_state=input_state, lead_time=12):\n",
    "    print_state(state)"
   ]
  },
  {
   "cell_type": "code",
   "execution_count": null,
   "metadata": {},
   "outputs": [],
   "source": []
  }
 ],
 "metadata": {
  "kernelspec": {
   "display_name": "regional-dd-wm",
   "language": "python",
   "name": "python3"
  },
  "language_info": {
   "codemirror_mode": {
    "name": "ipython",
    "version": 3
   },
   "file_extension": ".py",
   "mimetype": "text/x-python",
   "name": "python",
   "nbconvert_exporter": "python",
   "pygments_lexer": "ipython3",
   "version": "3.11.13"
  }
 },
 "nbformat": 4,
 "nbformat_minor": 4
}
