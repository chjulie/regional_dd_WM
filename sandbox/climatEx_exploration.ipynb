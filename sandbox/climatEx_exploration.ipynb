{
 "cells": [
  {
   "cell_type": "code",
   "execution_count": 1,
   "id": "dcd71570",
   "metadata": {},
   "outputs": [
    {
     "name": "stdout",
     "output_type": "stream",
     "text": [
      "Intel MKL WARNING: Support of Intel(R) Streaming SIMD Extensions 4.2 (Intel(R) SSE4.2) enabled only processors has been deprecated. Intel oneAPI Math Kernel Library 2025.0 will require Intel(R) Advanced Vector Extensions (Intel(R) AVX) instructions.\n",
      "Intel MKL WARNING: Support of Intel(R) Streaming SIMD Extensions 4.2 (Intel(R) SSE4.2) enabled only processors has been deprecated. Intel oneAPI Math Kernel Library 2025.0 will require Intel(R) Advanced Vector Extensions (Intel(R) AVX) instructions.\n"
     ]
    }
   ],
   "source": [
    "import numpy as np \n",
    "import os\n",
    "\n",
    "from netCDF4 import Dataset\n",
    "from wrf import getvar"
   ]
  },
  {
   "cell_type": "code",
   "execution_count": 2,
   "id": "89741749",
   "metadata": {},
   "outputs": [],
   "source": [
    "RAW_DATA_FOLDER = \"../data/climatEx/raw\"\n",
    "RAW_WRFOUT_FILE_NAME = \"wrfout_d03_1991-01-13_00_00_00\"\n",
    "RAW_WRFUVIC_FILE_NAME = \"wrfuvic_d03_1991-01-13_00_00_00\""
   ]
  },
  {
   "cell_type": "code",
   "execution_count": 3,
   "id": "cb26279a",
   "metadata": {},
   "outputs": [],
   "source": [
    "wrfout_file = Dataset(os.path.join(RAW_DATA_FOLDER, RAW_WRFOUT_FILE_NAME)) \n",
    "wrfuvic_file = Dataset(os.path.join(RAW_DATA_FOLDER, RAW_WRFUVIC_FILE_NAME))"
   ]
  },
  {
   "cell_type": "code",
   "execution_count": null,
   "id": "6067a3cc",
   "metadata": {},
   "outputs": [
    {
     "name": "stdout",
     "output_type": "stream",
     "text": [
      "<xarray.DataArray 'slp' (south_north: 702, west_east: 558)> Size: 2MB\n",
      "array([[1018.309  , 1018.30035, 1018.2879 , ...,  996.51855,  996.5054 ,\n",
      "         996.4643 ],\n",
      "       [1018.2588 , 1018.2466 , 1018.2329 , ...,  996.428  ,  996.4077 ,\n",
      "         996.3686 ],\n",
      "       [1018.21655, 1018.18823, 1018.175  , ...,  996.311  ,  996.27997,\n",
      "         995.63776],\n",
      "       ...,\n",
      "       [ 988.09064,  988.03064,  987.9988 , ...,  990.80615,  990.53674,\n",
      "         990.28644],\n",
      "       [ 988.07   ,  988.06696,  988.0056 , ...,  990.80743,  990.5933 ,\n",
      "         990.3487 ],\n",
      "       [ 988.07666,  988.0445 ,  988.0123 , ...,  990.8482 ,  990.63385,\n",
      "         990.5865 ]], dtype=float32)\n",
      "Coordinates:\n",
      "    XLONG    (south_north, west_east) float32 2MB -126.8 -126.7 ... -124.9\n",
      "    XLAT     (south_north, west_east) float32 2MB 43.16 43.18 ... 66.56 66.57\n",
      "    XTIME    float32 4B 1.93e+05\n",
      "    Time     datetime64[ns] 8B 1991-01-13\n",
      "Dimensions without coordinates: south_north, west_east\n",
      "Attributes:\n",
      "    FieldType:    104\n",
      "    MemoryOrder:  XY\n",
      "    description:  sea level pressure\n",
      "    units:        hPa\n",
      "    stagger:      \n",
      "    coordinates:  XLONG XLAT XTIME\n",
      "    projection:   PolarStereographic(stand_lon=-90.0, moad_cen_lat=52.9999961...\n"
     ]
    }
   ],
   "source": [
    "# Get the Sea Level Pressure\n",
    "slp = getvar(wrfout_file, \"slp\")\n",
    "print(slp)"
   ]
  },
  {
   "cell_type": "code",
   "execution_count": 7,
   "id": "dbbcedfe",
   "metadata": {},
   "outputs": [
    {
     "name": "stdout",
     "output_type": "stream",
     "text": [
      "{'TITLE': ' OUTPUT FROM WRF V4.4.2 MODEL', 'START_DATE': '1991-01-10_18:00:00', 'SIMULATION_START_DATE': '1990-09-01_00:00:00', 'WEST-EAST_GRID_DIMENSION': 559, 'SOUTH-NORTH_GRID_DIMENSION': 703, 'BOTTOM-TOP_GRID_DIMENSION': 51, 'DX': 3000.0, 'DY': 3000.0, 'AERCU_OPT': 0, 'AERCU_FCT': 1.0, 'IDEAL_CASE': 0, 'DIFF_6TH_SLOPEOPT': 0, 'AUTO_LEVELS_OPT': 2, 'DIFF_6TH_THRESH': 0.1, 'DZBOT': 50.0, 'DZSTRETCH_S': 1.3, 'DZSTRETCH_U': 1.1, 'SKEBS_ON': 0, 'USE_Q_DIABATIC': 0, 'GRIDTYPE': 'C', 'DIFF_OPT': 1, 'KM_OPT': 4, 'DAMP_OPT': 3, 'DAMPCOEF': 0.2, 'KHDIF': 0.0, 'KVDIF': 0.0, 'MP_PHYSICS': 6, 'RA_LW_PHYSICS': 3, 'RA_SW_PHYSICS': 3, 'SF_SFCLAY_PHYSICS': 1, 'SF_SURFACE_PHYSICS': 2, 'BL_PBL_PHYSICS': 1, 'CU_PHYSICS': 0, 'SF_LAKE_PHYSICS': 0, 'SURFACE_INPUT_SOURCE': 3, 'SST_UPDATE': 1, 'GHG_INPUT': 1, 'GRID_FDDA': 0, 'GFDDA_INTERVAL_M': 0, 'GFDDA_END_H': 0, 'GRID_SFDDA': 0, 'SGFDDA_INTERVAL_M': 0, 'SGFDDA_END_H': 0, 'HYPSOMETRIC_OPT': 2, 'USE_THETA_M': 1, 'GWD_OPT': 3, 'SF_URBAN_PHYSICS': 0, 'SF_SURFACE_MOSAIC': 0, 'SF_OCEAN_PHYSICS': 0, 'SHCU_PHYSICS': 0, 'MFSHCONV': 0, 'FEEDBACK': 1, 'SMOOTH_OPTION': 0, 'SWRAD_SCAT': 1.0, 'W_DAMPING': 1, 'DT': 11.307222, 'ADAPT_DT_START': 16.0, 'ADAPT_DT_MAX': 25.0, 'ADAPT_DT_MIN': 16.0, 'RADT': 10.0, 'BLDT': 0.0, 'CUDT': 0.0, 'AER_OPT': 0, 'SWINT_OPT': 1, 'AER_TYPE': 1, 'AER_AOD550_OPT': 1, 'AER_ANGEXP_OPT': 1, 'AER_SSA_OPT': 1, 'AER_ASY_OPT': 1, 'AER_AOD550_VAL': 0.12, 'AER_ANGEXP_VAL': 1.3, 'AER_SSA_VAL': 0.85, 'AER_ASY_VAL': 0.9, 'MOIST_ADV_OPT': 1, 'SCALAR_ADV_OPT': 1, 'TKE_ADV_OPT': 1, 'DIFF_6TH_OPT': 0, 'DIFF_6TH_FACTOR': 0.12, 'TOPO_WIND': 1, 'OBS_NUDGE_OPT': 0, 'BUCKET_MM': 100.0, 'BUCKET_J': 1000000000.0, 'PREC_ACC_DT': 0.0, 'ISFTCFLX': 0, 'ISHALLOW': 0, 'ISFFLX': 1, 'ICLOUD': 1, 'ICLOUD_CU': 0, 'TRACER_PBLMIX': 1, 'SCALAR_PBLMIX': 0, 'YSU_TOPDOWN_PBLMIX': 1, 'GRAV_SETTLING': 0, 'CLDOVRLP': 2, 'IDCOR': 0, 'DFI_OPT': 0, 'NTASKS_X': 16, 'NTASKS_Y': 16, 'NTASKS_TOTAL': 256, 'SIMULATION_INITIALIZATION_TYPE': 'REAL-DATA CASE', 'WEST-EAST_PATCH_START_UNSTAG': 1, 'WEST-EAST_PATCH_END_UNSTAG': 558, 'WEST-EAST_PATCH_START_STAG': 1, 'WEST-EAST_PATCH_END_STAG': 559, 'SOUTH-NORTH_PATCH_START_UNSTAG': 1, 'SOUTH-NORTH_PATCH_END_UNSTAG': 702, 'SOUTH-NORTH_PATCH_START_STAG': 1, 'SOUTH-NORTH_PATCH_END_STAG': 703, 'BOTTOM-TOP_PATCH_START_UNSTAG': 1, 'BOTTOM-TOP_PATCH_END_UNSTAG': 50, 'BOTTOM-TOP_PATCH_START_STAG': 1, 'BOTTOM-TOP_PATCH_END_STAG': 51, 'GRID_ID': 3, 'PARENT_ID': 2, 'I_PARENT_START': 93, 'J_PARENT_START': 143, 'PARENT_GRID_RATIO': 3, 'CEN_LAT': 54.49072, 'CEN_LON': -126.17539, 'TRUELAT1': 60.0, 'TRUELAT2': 90.0, 'MOAD_CEN_LAT': 52.999996, 'STAND_LON': -90.0, 'POLE_LAT': 90.0, 'POLE_LON': 0.0, 'GMT': 0.0, 'JULYR': 1991, 'JULDAY': 1, 'MAP_PROJ': 2, 'MAP_PROJ_CHAR': 'Polar Stereographic', 'MMINLU': 'MODIFIED_IGBP_MODIS_NOAH', 'NUM_LAND_CAT': 21, 'ISWATER': 17, 'ISLAKE': 21, 'ISICE': 15, 'ISURBAN': 13, 'ISOILWATER': 14, 'HYBRID_OPT': 2, 'ETAC': 0.2}\n"
     ]
    }
   ],
   "source": [
    "print(vars(wrfout_file))"
   ]
  },
  {
   "cell_type": "code",
   "execution_count": null,
   "id": "b80d9f8b",
   "metadata": {},
   "outputs": [],
   "source": []
  },
  {
   "cell_type": "code",
   "execution_count": null,
   "id": "37a0ecbd",
   "metadata": {},
   "outputs": [],
   "source": []
  }
 ],
 "metadata": {
  "kernelspec": {
   "display_name": "wrf-env",
   "language": "python",
   "name": "python3"
  },
  "language_info": {
   "codemirror_mode": {
    "name": "ipython",
    "version": 3
   },
   "file_extension": ".py",
   "mimetype": "text/x-python",
   "name": "python",
   "nbconvert_exporter": "python",
   "pygments_lexer": "ipython3",
   "version": "3.11.11"
  }
 },
 "nbformat": 4,
 "nbformat_minor": 5
}
